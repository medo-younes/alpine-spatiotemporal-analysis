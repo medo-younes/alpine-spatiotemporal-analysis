{
 "cells": [
  {
   "cell_type": "markdown",
   "metadata": {},
   "source": [
    "# Import Libraries"
   ]
  },
  {
   "cell_type": "code",
   "execution_count": 1,
   "metadata": {},
   "outputs": [],
   "source": [
    "import rioxarray as rio\n",
    "import os\n",
    "from dask.distributed import Client, LocalCluster, Lock\n",
    "import xarray as xr\n",
    "from sklearn.cluster import KMeans\n",
    "import numpy as np\n",
    "from sklearn.preprocessing import StandardScaler, MinMaxScaler\n",
    "from sensus import *\n",
    "from xrspatial import zonal_stats\n",
    "import pandas as pd\n",
    "from shapely.geometry import shape\n",
    "import geopandas as gpd\n",
    "import json\n"
   ]
  },
  {
   "cell_type": "markdown",
   "metadata": {},
   "source": [
    "## Set Data Path and Set Band Mapper"
   ]
  },
  {
   "cell_type": "code",
   "execution_count": 4,
   "metadata": {},
   "outputs": [],
   "source": [
    "output_dir=\"output\"\n",
    "\n",
    "\n",
    "\n",
    "multib_dir=\"../../data/UAV_Mapping_Niwot_Ridge_Colorado_2021/UAV_MULTISPEC\"\n",
    "lst_dir=\"../../data/UAV_Mapping_Niwot_Ridge_Colorado_2021/UAV_TIR25cm\"\n",
    "\n",
    "ortho_files=[f\"{multib_dir}/{x}\" for x in os.listdir(multib_dir) if x.split(\".\")[-1] == \"tif\"]\n",
    "ndvi_files=[f\"{output_dir}/{x}\" for x in os.listdir(\"output\") if \"ndvi\" in x]\n",
    "\n",
    "\n",
    "dates=[file.split(\"/\")[-1].split(\"_\")[0] for file in ortho_files]\n",
    "\n",
    "lst_files=[f\"{lst_dir}/{x}\" for x in os.listdir(lst_dir) if x.split(\".\")[-1] == \"tif\" and \"CropRGB\" in x]\n",
    "\n",
    "\n",
    "\n",
    "# # Create output\n",
    "# if not os.path.exists(output_dir):\n",
    "#     os.mkdir(output_dir)\n",
    "\n",
    "\n",
    "\n",
    "bands=[\"R\",\"G\",\"B\",\"RC\",\"NIR\"]\n",
    "\n",
    "dataset=dict()\n",
    "\n",
    "for file in ortho_files:\n",
    "    date=file.split(\"/\")[-1].split(\"_\")[0]\n",
    "    dataset[date] ={}\n",
    "    dataset[date][\"ortho\"] = file\n",
    "\n",
    "\n",
    "for file in lst_files:\n",
    "    date=file.split(\"/\")[-1].split(\"_\")[0]\n",
    "    dataset[date].update({\"lst\": file})\n",
    "\n",
    "for file in ndvi_files:\n",
    "    date=file.split(\"/\")[-1].split(\"_\")[0]\n",
    "    dataset[date].update({\"ndvi\": file})\n",
    "\n",
    "    "
   ]
  },
  {
   "cell_type": "markdown",
   "metadata": {},
   "source": [
    "## Prepare Dask Client"
   ]
  },
  {
   "cell_type": "code",
   "execution_count": 2,
   "metadata": {},
   "outputs": [],
   "source": [
    "client = Client(n_workers=2, threads_per_worker=2, memory_limit='10GB')\n"
   ]
  },
  {
   "cell_type": "markdown",
   "metadata": {},
   "source": [
    "# Calculate NDVI and Downsample to 25cm\n"
   ]
  },
  {
   "cell_type": "code",
   "execution_count": 5,
   "metadata": {},
   "outputs": [
    {
     "name": "stdout",
     "output_type": "stream",
     "text": [
      "20170621 ../../data/UAV_Mapping_Niwot_Ridge_Colorado_2021/UAV_MULTISPEC/20170621_MultiB_RGBNIR.tif\n",
      "20170621 NDVI Calculation Complete\n",
      "Resampling input raster to 25.0 cm resolution\n",
      "20170627 ../../data/UAV_Mapping_Niwot_Ridge_Colorado_2021/UAV_MULTISPEC/20170627_MultiB_RGBNIR.tif\n",
      "20170627 NDVI Calculation Complete\n",
      "Resampling input raster to 25.0 cm resolution\n",
      "20170705 ../../data/UAV_Mapping_Niwot_Ridge_Colorado_2021/UAV_MULTISPEC/20170705_MultiB_RGBNIR.tif\n",
      "20170705 NDVI Calculation Complete\n",
      "Resampling input raster to 25.0 cm resolution\n",
      "20170711 ../../data/UAV_Mapping_Niwot_Ridge_Colorado_2021/UAV_MULTISPEC/20170711_MultiB_RGBNIR.tif\n",
      "20170711 NDVI Calculation Complete\n",
      "Resampling input raster to 25.0 cm resolution\n",
      "20170718 ../../data/UAV_Mapping_Niwot_Ridge_Colorado_2021/UAV_MULTISPEC/20170718_MultiB_RGBNIR.tif\n",
      "20170718 NDVI Calculation Complete\n",
      "Resampling input raster to 25.0 cm resolution\n",
      "20170725 ../../data/UAV_Mapping_Niwot_Ridge_Colorado_2021/UAV_MULTISPEC/20170725_MultiB_RGBNIR.tif\n",
      "20170725 NDVI Calculation Complete\n",
      "Resampling input raster to 25.0 cm resolution\n",
      "20170814 ../../data/UAV_Mapping_Niwot_Ridge_Colorado_2021/UAV_MULTISPEC/20170814_MultiB_RGBNIR.tif\n",
      "20170814 NDVI Calculation Complete\n",
      "Resampling input raster to 25.0 cm resolution\n"
     ]
    }
   ],
   "source": [
    "\n",
    "\n",
    "TARGET_RESOLUTION=0.25 # Set target resolution to 25 cm\n",
    "\n",
    "\n",
    "dates=list(dataset.keys())\n",
    "data_vals=list()\n",
    "\n",
    "\n",
    "for date in dates:\n",
    "    paths=dataset[date]\n",
    "\n",
    "    ndvi_out=f\"{output_dir}/{date}_ndvi_25cm.tif\"\n",
    "    print(date, paths[\"ortho\"])\n",
    "    # Read Ortho as DaskArray\n",
    "    ortho=rio.open_rasterio(paths[\"ortho\"], chunks=True,  lock=Lock(\"rio-read\")) # Read ortho as DaskArray\n",
    "    fill_value=ortho.attrs[\"_FillValue\"]\n",
    "    ortho=ortho.assign_coords(band=bands) # Assign band names to orthomosaic - 1 = R, 2 = G, 3 = B, 4 = RC, 5 = NIR\n",
    "\n",
    "    if \"long_name\" in ortho.attrs:\n",
    "        del ortho.attrs[\"long_name\"]\n",
    "        del ortho.attrs[\"units\"]\n",
    "\n",
    "    # Retrieve NIR Band (5)\n",
    "    nir=ortho.sel(band=\"NIR\")\n",
    "    nir=nir.where(nir != fill_value)\n",
    "\n",
    "    # Retrieve Calibrated Red Band (4)\n",
    "    red=ortho.sel(band=\"RC\")\n",
    "    red=red.where(red != fill_value)\n",
    "    ndvi_5cm = ndvi(nir,red)\n",
    "    \n",
    "    ndvi_5cm.attrs=ortho.attrs # Pass original Orthomosaic Attributes to derived NDVI DataArray\n",
    "    print(f\"{date} NDVI Calculation Complete\")\n",
    "    ortho.close()\n",
    "\n",
    "    ndvi_5cm=ndvi_5cm.expand_dims(dim=\"band\",axis=0) # Reshape array to (band, height, width)\n",
    "    ndvi_5cm=ndvi_5cm.assign_coords(band=[\"NDVI\"]) # Rename band to NDVI\n",
    "\n",
    "    \n",
    "    # Write NDVI, Snow and Vegetation Rasters (25 cm)\n",
    "    if os.path.exists(ndvi_out) == False:\n",
    "        \n",
    "        ndvi_25cm=resample_da(ndvi_5cm, target_res=TARGET_RESOLUTION) # Resamle NDVI Layer from 5cm to 25cm\n",
    "        ndvi_5cm.close() \n",
    "\n",
    "        ndvi_25cm.rio.to_raster(ndvi_out) # Write resampled NDVI Raster to GeoTIFF\n",
    "\n"
   ]
  },
  {
   "cell_type": "markdown",
   "metadata": {},
   "source": [
    "## Classify Snow, Dense Vegetation and Sparse Vegetation Based on NDVI\n",
    "\n",
    "\n",
    "\n",
    "The Normalized Difference Vegetation Index (NDVI) is a widely used indicator for assessing vegetation health and density. NDVI values range from -1.0 to 1.0, with different ranges corresponding to various surface features and vegetation types:\n",
    "\n",
    "- Negative values: Indicate non-vegetated surfaces such as water bodies, clouds, or snow.\n",
    "- Values close to 0: Represent barren areas like rocks, sand, or snow.\n",
    "- Low positive values (approximately 0.2 to 0.3): Correspond to shrublands and grasslands.\n",
    "- Moderate values (around 0.3 to 0.5): Indicate areas with sparse vegetation or transitional zones.\n",
    "- High values (approximately 0.6 to 0.8): Signify dense vegetation, such as temperate and tropical forests.\n",
    "\n",
    "[Source: NASA Earth Observatory](https://earthobservatory.nasa.gov/features/MeasuringVegetationh?)\n"
   ]
  },
  {
   "cell_type": "code",
   "execution_count": null,
   "metadata": {},
   "outputs": [
    {
     "name": "stdout",
     "output_type": "stream",
     "text": [
      "20170621\n",
      "20170627\n",
      "20170705\n",
      "20170711\n"
     ]
    }
   ],
   "source": [
    "CLASSES=[\"Dense Vegetation\",\"Moderate Vegetation\",\"Sparse Vegetation\",\"Snow\"]\n",
    "VALUES=range(1, len(CLASSES) + 1)\n",
    "CLASSES=dict(zip(CLASSES,VALUES))\n",
    "DENSE_VEGETATION_NDVI=[0.6,1]\n",
    "MODERATE_VEGETATION_NDVI=[0.3,0.6]\n",
    "SPARSE_VEGETATION_NDVI= [0.2,0.3]\n",
    "SNOW_NDVI=[-1,0.2]\n",
    "\n",
    "\n",
    "ndvi_files=[f\"{output_dir}/{x}\" for x in os.listdir(\"output\") if \"ndvi\" in x]\n",
    "# array=np.full((orig_shape), 0)\n",
    "\n",
    "\n",
    "for ndvi_file in ndvi_files:   \n",
    "\n",
    "    \n",
    "    date=ndvi_file.split(\"/\")[-1].split(\"_\")[0]\n",
    "    lc_out=f\"{output_dir}/{date}_lc_25cm.tif\"\n",
    "    print(date)\n",
    "    ndvi_25cm=rio.open_rasterio(ndvi_file)\n",
    "\n",
    "    dense=ndvi_25cm.where((ndvi_25cm >= DENSE_VEGETATION_NDVI[0]))\n",
    "    moderate=ndvi_25cm.where((ndvi_25cm >= SPARSE_VEGETATION_NDVI[0])  & (ndvi_25cm < SPARSE_VEGETATION_NDVI[1])) \n",
    "    sparse=ndvi_25cm.where((ndvi_25cm >= MODERATE_VEGETATION_NDVI[0])  & (ndvi_25cm < MODERATE_VEGETATION_NDVI[1])) \n",
    "    snow=ndvi_25cm.where((ndvi_25cm < SNOW_NDVI[1])) \n",
    "\n",
    "    # Fill Masked layers with their corresponding class values as defined in the CLASSES list\n",
    "\n",
    "    ## DENSE VEGETATION LAYER\n",
    "    dense=dense.where(dense.isnull(),CLASSES.get(\"Dense Vegetation\")).where(~dense.isnull(),0)\n",
    "    \n",
    "    ## MODERATE VEGETATION CLASS LAYER\n",
    "    moderate=moderate.where(moderate.isnull(),CLASSES.get(\"Moderate Vegetation\")).where(~moderate.isnull(),0)\n",
    "\n",
    "    ## SPARSE VEGETATION LAYER\n",
    "    sparse=sparse.where(sparse.isnull(),CLASSES.get(\"Sparse Vegetation\")).where(~sparse.isnull(),0)\n",
    "\n",
    "    ## SNOW LAYER\n",
    "    snow=snow.where(snow.isnull(), CLASSES.get(\"Snow\")).where(~snow.isnull(),0)\n",
    "\n",
    "    # LAND COVER LAYER - Aggregate all four land classification layers to create a single land cover raster dataset\n",
    "    lc = sum([snow,dense, moderate, sparse])\n",
    "    lc=lc.where(lc > 0) # Mask out 0 (FillValue)\n",
    "\n",
    "      # Write NDVI, Snow and Vegetation Rasters (25 cm)\n",
    "    # if os.path.exists(lc_out) == False:    \n",
    "    lc.rio.to_raster(lc_out) # Export as GeoTIFF\n",
    "\n",
    "# Export class mapping as JSON\n",
    "with open(\"classes.json\",\"w\") as json_out:\n",
    "\n",
    "    json_out.write(json.dumps(CLASSES))\n",
    "\n"
   ]
  }
 ],
 "metadata": {
  "kernelspec": {
   "display_name": "geoai",
   "language": "python",
   "name": "python3"
  },
  "language_info": {
   "codemirror_mode": {
    "name": "ipython",
    "version": 3
   },
   "file_extension": ".py",
   "mimetype": "text/x-python",
   "name": "python",
   "nbconvert_exporter": "python",
   "pygments_lexer": "ipython3",
   "version": "3.11.10"
  }
 },
 "nbformat": 4,
 "nbformat_minor": 2
}
